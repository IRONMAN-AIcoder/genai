{
  "nbformat": 4,
  "nbformat_minor": 0,
  "metadata": {
    "colab": {
      "provenance": [],
      "authorship_tag": "ABX9TyNhYQ4dt4y4XCCpBMqiWtfL",
      "include_colab_link": true
    },
    "kernelspec": {
      "name": "python3",
      "display_name": "Python 3"
    },
    "language_info": {
      "name": "python"
    }
  },
  "cells": [
    {
      "cell_type": "markdown",
      "metadata": {
        "id": "view-in-github",
        "colab_type": "text"
      },
      "source": [
        "<a href=\"https://colab.research.google.com/github/IRONMAN-AIcoder/genai/blob/main/Gen4.ipynb\" target=\"_parent\"><img src=\"https://colab.research.google.com/assets/colab-badge.svg\" alt=\"Open In Colab\"/></a>"
      ]
    },
    {
      "cell_type": "code",
      "source": [
        "import openai\n",
        "import os\n",
        "\n",
        "def chatbot():\n",
        "    # Set your OpenRouter API key and base URL\n",
        "    openai.api_key = # Replace with your API key or use an environment variable\n",
        "    openai.api_base = \"https://openrouter.ai/api/v1\"  # Set the base URL for OpenRouter\n",
        "\n",
        "    print(\"Welcome to the OpenRouter-powered chatbot! Type 'exit' to end the conversation.\")\n",
        "\n",
        "    while True:\n",
        "        # Get user input\n",
        "        user_input = input(\"You: \")\n",
        "\n",
        "        # Exit the chatbot if the user types 'exit'\n",
        "        if user_input.lower() == 'exit':\n",
        "            print(\"Chatbot: Goodbye!\")\n",
        "            break\n",
        "\n",
        "        try:\n",
        "            # Send the user input to OpenRouter API and get the response\n",
        "            response = openai.ChatCompletion.create(\n",
        "                model=\"gpt-3.5-turbo\",  # Specify the model\n",
        "                messages=[\n",
        "                    {\"role\": \"system\", \"content\": \"You are a helpful chatbot.\"},\n",
        "                    {\"role\": \"user\", \"content\": user_input}\n",
        "                ]\n",
        "            )\n",
        "\n",
        "            # Extract and print the chatbot's reply\n",
        "            chatbot_reply = response['choices'][0]['message']['content']\n",
        "            print(f\"Chatbot: {chatbot_reply}\")\n",
        "\n",
        "        except Exception as e:\n",
        "            print(f\"An error occurred: {e}\")\n",
        "\n",
        "if __name__ == \"__main__\":\n",
        "    chatbot()\n"
      ],
      "metadata": {
        "colab": {
          "base_uri": "https://localhost:8080/"
        },
        "id": "2_zbzowS7upP",
        "outputId": "98157e32-7f1f-4ff6-a543-d138560dff98"
      },
      "execution_count": null,
      "outputs": [
        {
          "output_type": "stream",
          "name": "stdout",
          "text": [
            "Welcome to the OpenRouter-powered chatbot! Type 'exit' to end the conversation.\n",
            "You: did near cheated to find light in the ending of deathnote\n",
            "Chatbot: Near didn't cheat in Death Note. He used his intelligence, strategic thinking, and deductive reasoning to challenge Light and eventually expose him as Kira. While some viewers may argue that Near's methods were questionable or relied on luck, there is no evidence to suggest that he cheated in the series.\n",
            "You: how to build a buiding\n",
            "Chatbot: Building a building is a complex process that requires careful planning, knowledge of construction techniques, and compliance with local regulations. Here are some general steps you can follow to build a building:\n",
            "\n",
            "1. Develop a plan: Define the purpose of the building, create a design that meets your requirements, and determine the budget for the project.\n",
            "\n",
            "2. Obtain permits and approvals: Before starting construction, you will need to obtain the necessary permits and approvals from the local government. This may include zoning permits, building permits, and environmental permits.\n",
            "\n",
            "3. Prepare the site: Clear the site of any debris, level the ground, and mark the boundaries of the building.\n",
            "\n",
            "4. Lay the foundation: The foundation provides the structural support for the building. It is important to ensure that the foundation is properly constructed to prevent settlement and other issues in the future.\n",
            "\n",
            "5. Build the structure: Once the foundation is in place, the structure of the building can be built. This may involve framing, roofing, and other construction tasks.\n",
            "\n",
            "6. Install utilities: Install plumbing, electrical, and HVAC systems to provide essential services to the building.\n",
            "\n",
            "7. Finish the interior: Add finishes such as drywall, flooring, paint, and fixtures to complete the interior of the building.\n",
            "\n",
            "8. Complete the exterior: Install siding, windows, doors, and other exterior finishes to protect the building from the elements.\n",
            "\n",
            "9. Inspect and obtain approval: Once the building is completed, it will need to be inspected to ensure that it meets building codes and regulations. Once approved, you can move in or start using the building for its intended purpose.\n",
            "\n",
            "It is important to work with experienced professionals, such as architects, engineers, contractors, and tradespeople, throughout the building process to ensure that the project is completed successfully and safely.\n",
            "You: exit\n",
            "Chatbot: Goodbye!\n"
          ]
        }
      ]
    },
    {
      "cell_type": "code",
      "source": [
        "pip install openai==0.28"
      ],
      "metadata": {
        "colab": {
          "base_uri": "https://localhost:8080/",
          "height": 530
        },
        "id": "yVYYZE6L8WDe",
        "outputId": "3c2322a7-5814-4d40-d7e8-7989cb8e2d62"
      },
      "execution_count": null,
      "outputs": [
        {
          "output_type": "stream",
          "name": "stdout",
          "text": [
            "Collecting openai==0.28\n",
            "  Downloading openai-0.28.0-py3-none-any.whl.metadata (13 kB)\n",
            "Requirement already satisfied: requests>=2.20 in /usr/local/lib/python3.11/dist-packages (from openai==0.28) (2.32.3)\n",
            "Requirement already satisfied: tqdm in /usr/local/lib/python3.11/dist-packages (from openai==0.28) (4.67.1)\n",
            "Requirement already satisfied: aiohttp in /usr/local/lib/python3.11/dist-packages (from openai==0.28) (3.11.14)\n",
            "Requirement already satisfied: charset-normalizer<4,>=2 in /usr/local/lib/python3.11/dist-packages (from requests>=2.20->openai==0.28) (3.4.1)\n",
            "Requirement already satisfied: idna<4,>=2.5 in /usr/local/lib/python3.11/dist-packages (from requests>=2.20->openai==0.28) (3.10)\n",
            "Requirement already satisfied: urllib3<3,>=1.21.1 in /usr/local/lib/python3.11/dist-packages (from requests>=2.20->openai==0.28) (2.3.0)\n",
            "Requirement already satisfied: certifi>=2017.4.17 in /usr/local/lib/python3.11/dist-packages (from requests>=2.20->openai==0.28) (2025.1.31)\n",
            "Requirement already satisfied: aiohappyeyeballs>=2.3.0 in /usr/local/lib/python3.11/dist-packages (from aiohttp->openai==0.28) (2.6.1)\n",
            "Requirement already satisfied: aiosignal>=1.1.2 in /usr/local/lib/python3.11/dist-packages (from aiohttp->openai==0.28) (1.3.2)\n",
            "Requirement already satisfied: attrs>=17.3.0 in /usr/local/lib/python3.11/dist-packages (from aiohttp->openai==0.28) (25.3.0)\n",
            "Requirement already satisfied: frozenlist>=1.1.1 in /usr/local/lib/python3.11/dist-packages (from aiohttp->openai==0.28) (1.5.0)\n",
            "Requirement already satisfied: multidict<7.0,>=4.5 in /usr/local/lib/python3.11/dist-packages (from aiohttp->openai==0.28) (6.2.0)\n",
            "Requirement already satisfied: propcache>=0.2.0 in /usr/local/lib/python3.11/dist-packages (from aiohttp->openai==0.28) (0.3.0)\n",
            "Requirement already satisfied: yarl<2.0,>=1.17.0 in /usr/local/lib/python3.11/dist-packages (from aiohttp->openai==0.28) (1.18.3)\n",
            "Downloading openai-0.28.0-py3-none-any.whl (76 kB)\n",
            "\u001b[2K   \u001b[90m━━━━━━━━━━━━━━━━━━━━━━━━━━━━━━━━━━━━━━━━\u001b[0m \u001b[32m76.5/76.5 kB\u001b[0m \u001b[31m3.7 MB/s\u001b[0m eta \u001b[36m0:00:00\u001b[0m\n",
            "\u001b[?25hInstalling collected packages: openai\n",
            "  Attempting uninstall: openai\n",
            "    Found existing installation: openai 1.68.2\n",
            "    Uninstalling openai-1.68.2:\n",
            "      Successfully uninstalled openai-1.68.2\n",
            "Successfully installed openai-0.28.0\n"
          ]
        },
        {
          "output_type": "display_data",
          "data": {
            "application/vnd.colab-display-data+json": {
              "pip_warning": {
                "packages": [
                  "openai"
                ]
              },
              "id": "6dc0c24c38594e65af5ebab87d41b04e"
            }
          },
          "metadata": {}
        }
      ]
    },
    {
      "cell_type": "code",
      "source": [
        "pip install langchain openai"
      ],
      "metadata": {
        "colab": {
          "base_uri": "https://localhost:8080/"
        },
        "id": "9AX-RxVYDmA_",
        "outputId": "f2d13917-9409-408b-9294-241a98b40d2e"
      },
      "execution_count": null,
      "outputs": [
        {
          "output_type": "stream",
          "name": "stdout",
          "text": [
            "Requirement already satisfied: langchain in /usr/local/lib/python3.11/dist-packages (0.3.21)\n",
            "Requirement already satisfied: openai in /usr/local/lib/python3.11/dist-packages (0.28.0)\n",
            "Requirement already satisfied: langchain-core<1.0.0,>=0.3.45 in /usr/local/lib/python3.11/dist-packages (from langchain) (0.3.47)\n",
            "Requirement already satisfied: langchain-text-splitters<1.0.0,>=0.3.7 in /usr/local/lib/python3.11/dist-packages (from langchain) (0.3.7)\n",
            "Requirement already satisfied: langsmith<0.4,>=0.1.17 in /usr/local/lib/python3.11/dist-packages (from langchain) (0.3.18)\n",
            "Requirement already satisfied: pydantic<3.0.0,>=2.7.4 in /usr/local/lib/python3.11/dist-packages (from langchain) (2.10.6)\n",
            "Requirement already satisfied: SQLAlchemy<3,>=1.4 in /usr/local/lib/python3.11/dist-packages (from langchain) (2.0.39)\n",
            "Requirement already satisfied: requests<3,>=2 in /usr/local/lib/python3.11/dist-packages (from langchain) (2.32.3)\n",
            "Requirement already satisfied: PyYAML>=5.3 in /usr/local/lib/python3.11/dist-packages (from langchain) (6.0.2)\n",
            "Requirement already satisfied: tqdm in /usr/local/lib/python3.11/dist-packages (from openai) (4.67.1)\n",
            "Requirement already satisfied: aiohttp in /usr/local/lib/python3.11/dist-packages (from openai) (3.11.14)\n",
            "Requirement already satisfied: tenacity!=8.4.0,<10.0.0,>=8.1.0 in /usr/local/lib/python3.11/dist-packages (from langchain-core<1.0.0,>=0.3.45->langchain) (9.0.0)\n",
            "Requirement already satisfied: jsonpatch<2.0,>=1.33 in /usr/local/lib/python3.11/dist-packages (from langchain-core<1.0.0,>=0.3.45->langchain) (1.33)\n",
            "Requirement already satisfied: packaging<25,>=23.2 in /usr/local/lib/python3.11/dist-packages (from langchain-core<1.0.0,>=0.3.45->langchain) (24.2)\n",
            "Requirement already satisfied: typing-extensions>=4.7 in /usr/local/lib/python3.11/dist-packages (from langchain-core<1.0.0,>=0.3.45->langchain) (4.12.2)\n",
            "Requirement already satisfied: httpx<1,>=0.23.0 in /usr/local/lib/python3.11/dist-packages (from langsmith<0.4,>=0.1.17->langchain) (0.28.1)\n",
            "Requirement already satisfied: orjson<4.0.0,>=3.9.14 in /usr/local/lib/python3.11/dist-packages (from langsmith<0.4,>=0.1.17->langchain) (3.10.15)\n",
            "Requirement already satisfied: requests-toolbelt<2.0.0,>=1.0.0 in /usr/local/lib/python3.11/dist-packages (from langsmith<0.4,>=0.1.17->langchain) (1.0.0)\n",
            "Requirement already satisfied: zstandard<0.24.0,>=0.23.0 in /usr/local/lib/python3.11/dist-packages (from langsmith<0.4,>=0.1.17->langchain) (0.23.0)\n",
            "Requirement already satisfied: annotated-types>=0.6.0 in /usr/local/lib/python3.11/dist-packages (from pydantic<3.0.0,>=2.7.4->langchain) (0.7.0)\n",
            "Requirement already satisfied: pydantic-core==2.27.2 in /usr/local/lib/python3.11/dist-packages (from pydantic<3.0.0,>=2.7.4->langchain) (2.27.2)\n",
            "Requirement already satisfied: charset-normalizer<4,>=2 in /usr/local/lib/python3.11/dist-packages (from requests<3,>=2->langchain) (3.4.1)\n",
            "Requirement already satisfied: idna<4,>=2.5 in /usr/local/lib/python3.11/dist-packages (from requests<3,>=2->langchain) (3.10)\n",
            "Requirement already satisfied: urllib3<3,>=1.21.1 in /usr/local/lib/python3.11/dist-packages (from requests<3,>=2->langchain) (2.3.0)\n",
            "Requirement already satisfied: certifi>=2017.4.17 in /usr/local/lib/python3.11/dist-packages (from requests<3,>=2->langchain) (2025.1.31)\n",
            "Requirement already satisfied: greenlet!=0.4.17 in /usr/local/lib/python3.11/dist-packages (from SQLAlchemy<3,>=1.4->langchain) (3.1.1)\n",
            "Requirement already satisfied: aiohappyeyeballs>=2.3.0 in /usr/local/lib/python3.11/dist-packages (from aiohttp->openai) (2.6.1)\n",
            "Requirement already satisfied: aiosignal>=1.1.2 in /usr/local/lib/python3.11/dist-packages (from aiohttp->openai) (1.3.2)\n",
            "Requirement already satisfied: attrs>=17.3.0 in /usr/local/lib/python3.11/dist-packages (from aiohttp->openai) (25.3.0)\n",
            "Requirement already satisfied: frozenlist>=1.1.1 in /usr/local/lib/python3.11/dist-packages (from aiohttp->openai) (1.5.0)\n",
            "Requirement already satisfied: multidict<7.0,>=4.5 in /usr/local/lib/python3.11/dist-packages (from aiohttp->openai) (6.2.0)\n",
            "Requirement already satisfied: propcache>=0.2.0 in /usr/local/lib/python3.11/dist-packages (from aiohttp->openai) (0.3.0)\n",
            "Requirement already satisfied: yarl<2.0,>=1.17.0 in /usr/local/lib/python3.11/dist-packages (from aiohttp->openai) (1.18.3)\n",
            "Requirement already satisfied: anyio in /usr/local/lib/python3.11/dist-packages (from httpx<1,>=0.23.0->langsmith<0.4,>=0.1.17->langchain) (4.9.0)\n",
            "Requirement already satisfied: httpcore==1.* in /usr/local/lib/python3.11/dist-packages (from httpx<1,>=0.23.0->langsmith<0.4,>=0.1.17->langchain) (1.0.7)\n",
            "Requirement already satisfied: h11<0.15,>=0.13 in /usr/local/lib/python3.11/dist-packages (from httpcore==1.*->httpx<1,>=0.23.0->langsmith<0.4,>=0.1.17->langchain) (0.14.0)\n",
            "Requirement already satisfied: jsonpointer>=1.9 in /usr/local/lib/python3.11/dist-packages (from jsonpatch<2.0,>=1.33->langchain-core<1.0.0,>=0.3.45->langchain) (3.0.0)\n",
            "Requirement already satisfied: sniffio>=1.1 in /usr/local/lib/python3.11/dist-packages (from anyio->httpx<1,>=0.23.0->langsmith<0.4,>=0.1.17->langchain) (1.3.1)\n"
          ]
        }
      ]
    },
    {
      "cell_type": "code",
      "source": [
        "pip install --upgrade langchain langchain-community"
      ],
      "metadata": {
        "colab": {
          "base_uri": "https://localhost:8080/"
        },
        "id": "NX4gjw1MGYdO",
        "outputId": "0f1348ab-d5ff-4f14-b167-094eef61ddab"
      },
      "execution_count": null,
      "outputs": [
        {
          "output_type": "stream",
          "name": "stdout",
          "text": [
            "Requirement already satisfied: langchain in /usr/local/lib/python3.11/dist-packages (0.3.21)\n",
            "Collecting langchain-community\n",
            "  Downloading langchain_community-0.3.20-py3-none-any.whl.metadata (2.4 kB)\n",
            "Requirement already satisfied: langchain-core<1.0.0,>=0.3.45 in /usr/local/lib/python3.11/dist-packages (from langchain) (0.3.47)\n",
            "Requirement already satisfied: langchain-text-splitters<1.0.0,>=0.3.7 in /usr/local/lib/python3.11/dist-packages (from langchain) (0.3.7)\n",
            "Requirement already satisfied: langsmith<0.4,>=0.1.17 in /usr/local/lib/python3.11/dist-packages (from langchain) (0.3.18)\n",
            "Requirement already satisfied: pydantic<3.0.0,>=2.7.4 in /usr/local/lib/python3.11/dist-packages (from langchain) (2.10.6)\n",
            "Requirement already satisfied: SQLAlchemy<3,>=1.4 in /usr/local/lib/python3.11/dist-packages (from langchain) (2.0.39)\n",
            "Requirement already satisfied: requests<3,>=2 in /usr/local/lib/python3.11/dist-packages (from langchain) (2.32.3)\n",
            "Requirement already satisfied: PyYAML>=5.3 in /usr/local/lib/python3.11/dist-packages (from langchain) (6.0.2)\n",
            "Requirement already satisfied: aiohttp<4.0.0,>=3.8.3 in /usr/local/lib/python3.11/dist-packages (from langchain-community) (3.11.14)\n",
            "Requirement already satisfied: tenacity!=8.4.0,<10,>=8.1.0 in /usr/local/lib/python3.11/dist-packages (from langchain-community) (9.0.0)\n",
            "Collecting dataclasses-json<0.7,>=0.5.7 (from langchain-community)\n",
            "  Downloading dataclasses_json-0.6.7-py3-none-any.whl.metadata (25 kB)\n",
            "Collecting pydantic-settings<3.0.0,>=2.4.0 (from langchain-community)\n",
            "  Downloading pydantic_settings-2.8.1-py3-none-any.whl.metadata (3.5 kB)\n",
            "Collecting httpx-sse<1.0.0,>=0.4.0 (from langchain-community)\n",
            "  Downloading httpx_sse-0.4.0-py3-none-any.whl.metadata (9.0 kB)\n",
            "Requirement already satisfied: numpy<3,>=1.26.2 in /usr/local/lib/python3.11/dist-packages (from langchain-community) (2.0.2)\n",
            "Requirement already satisfied: aiohappyeyeballs>=2.3.0 in /usr/local/lib/python3.11/dist-packages (from aiohttp<4.0.0,>=3.8.3->langchain-community) (2.6.1)\n",
            "Requirement already satisfied: aiosignal>=1.1.2 in /usr/local/lib/python3.11/dist-packages (from aiohttp<4.0.0,>=3.8.3->langchain-community) (1.3.2)\n",
            "Requirement already satisfied: attrs>=17.3.0 in /usr/local/lib/python3.11/dist-packages (from aiohttp<4.0.0,>=3.8.3->langchain-community) (25.3.0)\n",
            "Requirement already satisfied: frozenlist>=1.1.1 in /usr/local/lib/python3.11/dist-packages (from aiohttp<4.0.0,>=3.8.3->langchain-community) (1.5.0)\n",
            "Requirement already satisfied: multidict<7.0,>=4.5 in /usr/local/lib/python3.11/dist-packages (from aiohttp<4.0.0,>=3.8.3->langchain-community) (6.2.0)\n",
            "Requirement already satisfied: propcache>=0.2.0 in /usr/local/lib/python3.11/dist-packages (from aiohttp<4.0.0,>=3.8.3->langchain-community) (0.3.0)\n",
            "Requirement already satisfied: yarl<2.0,>=1.17.0 in /usr/local/lib/python3.11/dist-packages (from aiohttp<4.0.0,>=3.8.3->langchain-community) (1.18.3)\n",
            "Collecting marshmallow<4.0.0,>=3.18.0 (from dataclasses-json<0.7,>=0.5.7->langchain-community)\n",
            "  Downloading marshmallow-3.26.1-py3-none-any.whl.metadata (7.3 kB)\n",
            "Collecting typing-inspect<1,>=0.4.0 (from dataclasses-json<0.7,>=0.5.7->langchain-community)\n",
            "  Downloading typing_inspect-0.9.0-py3-none-any.whl.metadata (1.5 kB)\n",
            "Requirement already satisfied: jsonpatch<2.0,>=1.33 in /usr/local/lib/python3.11/dist-packages (from langchain-core<1.0.0,>=0.3.45->langchain) (1.33)\n",
            "Requirement already satisfied: packaging<25,>=23.2 in /usr/local/lib/python3.11/dist-packages (from langchain-core<1.0.0,>=0.3.45->langchain) (24.2)\n",
            "Requirement already satisfied: typing-extensions>=4.7 in /usr/local/lib/python3.11/dist-packages (from langchain-core<1.0.0,>=0.3.45->langchain) (4.12.2)\n",
            "Requirement already satisfied: httpx<1,>=0.23.0 in /usr/local/lib/python3.11/dist-packages (from langsmith<0.4,>=0.1.17->langchain) (0.28.1)\n",
            "Requirement already satisfied: orjson<4.0.0,>=3.9.14 in /usr/local/lib/python3.11/dist-packages (from langsmith<0.4,>=0.1.17->langchain) (3.10.15)\n",
            "Requirement already satisfied: requests-toolbelt<2.0.0,>=1.0.0 in /usr/local/lib/python3.11/dist-packages (from langsmith<0.4,>=0.1.17->langchain) (1.0.0)\n",
            "Requirement already satisfied: zstandard<0.24.0,>=0.23.0 in /usr/local/lib/python3.11/dist-packages (from langsmith<0.4,>=0.1.17->langchain) (0.23.0)\n",
            "Requirement already satisfied: annotated-types>=0.6.0 in /usr/local/lib/python3.11/dist-packages (from pydantic<3.0.0,>=2.7.4->langchain) (0.7.0)\n",
            "Requirement already satisfied: pydantic-core==2.27.2 in /usr/local/lib/python3.11/dist-packages (from pydantic<3.0.0,>=2.7.4->langchain) (2.27.2)\n",
            "Collecting python-dotenv>=0.21.0 (from pydantic-settings<3.0.0,>=2.4.0->langchain-community)\n",
            "  Downloading python_dotenv-1.1.0-py3-none-any.whl.metadata (24 kB)\n",
            "Requirement already satisfied: charset-normalizer<4,>=2 in /usr/local/lib/python3.11/dist-packages (from requests<3,>=2->langchain) (3.4.1)\n",
            "Requirement already satisfied: idna<4,>=2.5 in /usr/local/lib/python3.11/dist-packages (from requests<3,>=2->langchain) (3.10)\n",
            "Requirement already satisfied: urllib3<3,>=1.21.1 in /usr/local/lib/python3.11/dist-packages (from requests<3,>=2->langchain) (2.3.0)\n",
            "Requirement already satisfied: certifi>=2017.4.17 in /usr/local/lib/python3.11/dist-packages (from requests<3,>=2->langchain) (2025.1.31)\n",
            "Requirement already satisfied: greenlet!=0.4.17 in /usr/local/lib/python3.11/dist-packages (from SQLAlchemy<3,>=1.4->langchain) (3.1.1)\n",
            "Requirement already satisfied: anyio in /usr/local/lib/python3.11/dist-packages (from httpx<1,>=0.23.0->langsmith<0.4,>=0.1.17->langchain) (4.9.0)\n",
            "Requirement already satisfied: httpcore==1.* in /usr/local/lib/python3.11/dist-packages (from httpx<1,>=0.23.0->langsmith<0.4,>=0.1.17->langchain) (1.0.7)\n",
            "Requirement already satisfied: h11<0.15,>=0.13 in /usr/local/lib/python3.11/dist-packages (from httpcore==1.*->httpx<1,>=0.23.0->langsmith<0.4,>=0.1.17->langchain) (0.14.0)\n",
            "Requirement already satisfied: jsonpointer>=1.9 in /usr/local/lib/python3.11/dist-packages (from jsonpatch<2.0,>=1.33->langchain-core<1.0.0,>=0.3.45->langchain) (3.0.0)\n",
            "Collecting mypy-extensions>=0.3.0 (from typing-inspect<1,>=0.4.0->dataclasses-json<0.7,>=0.5.7->langchain-community)\n",
            "  Downloading mypy_extensions-1.0.0-py3-none-any.whl.metadata (1.1 kB)\n",
            "Requirement already satisfied: sniffio>=1.1 in /usr/local/lib/python3.11/dist-packages (from anyio->httpx<1,>=0.23.0->langsmith<0.4,>=0.1.17->langchain) (1.3.1)\n",
            "Downloading langchain_community-0.3.20-py3-none-any.whl (2.5 MB)\n",
            "\u001b[2K   \u001b[90m━━━━━━━━━━━━━━━━━━━━━━━━━━━━━━━━━━━━━━━━\u001b[0m \u001b[32m2.5/2.5 MB\u001b[0m \u001b[31m38.9 MB/s\u001b[0m eta \u001b[36m0:00:00\u001b[0m\n",
            "\u001b[?25hDownloading dataclasses_json-0.6.7-py3-none-any.whl (28 kB)\n",
            "Downloading httpx_sse-0.4.0-py3-none-any.whl (7.8 kB)\n",
            "Downloading pydantic_settings-2.8.1-py3-none-any.whl (30 kB)\n",
            "Downloading marshmallow-3.26.1-py3-none-any.whl (50 kB)\n",
            "\u001b[2K   \u001b[90m━━━━━━━━━━━━━━━━━━━━━━━━━━━━━━━━━━━━━━━━\u001b[0m \u001b[32m50.9/50.9 kB\u001b[0m \u001b[31m3.1 MB/s\u001b[0m eta \u001b[36m0:00:00\u001b[0m\n",
            "\u001b[?25hDownloading python_dotenv-1.1.0-py3-none-any.whl (20 kB)\n",
            "Downloading typing_inspect-0.9.0-py3-none-any.whl (8.8 kB)\n",
            "Downloading mypy_extensions-1.0.0-py3-none-any.whl (4.7 kB)\n",
            "Installing collected packages: python-dotenv, mypy-extensions, marshmallow, httpx-sse, typing-inspect, pydantic-settings, dataclasses-json, langchain-community\n",
            "Successfully installed dataclasses-json-0.6.7 httpx-sse-0.4.0 langchain-community-0.3.20 marshmallow-3.26.1 mypy-extensions-1.0.0 pydantic-settings-2.8.1 python-dotenv-1.1.0 typing-inspect-0.9.0\n"
          ]
        }
      ]
    },
    {
      "cell_type": "code",
      "source": [
        "pip install --upgrade langchain"
      ],
      "metadata": {
        "colab": {
          "base_uri": "https://localhost:8080/"
        },
        "id": "2HPkAe02Grk0",
        "outputId": "285c2f41-1a4d-452f-f2d7-0e1738f892b3"
      },
      "execution_count": null,
      "outputs": [
        {
          "output_type": "stream",
          "name": "stdout",
          "text": [
            "Requirement already satisfied: langchain in /usr/local/lib/python3.11/dist-packages (0.3.21)\n",
            "Requirement already satisfied: langchain-core<1.0.0,>=0.3.45 in /usr/local/lib/python3.11/dist-packages (from langchain) (0.3.47)\n",
            "Requirement already satisfied: langchain-text-splitters<1.0.0,>=0.3.7 in /usr/local/lib/python3.11/dist-packages (from langchain) (0.3.7)\n",
            "Requirement already satisfied: langsmith<0.4,>=0.1.17 in /usr/local/lib/python3.11/dist-packages (from langchain) (0.3.18)\n",
            "Requirement already satisfied: pydantic<3.0.0,>=2.7.4 in /usr/local/lib/python3.11/dist-packages (from langchain) (2.10.6)\n",
            "Requirement already satisfied: SQLAlchemy<3,>=1.4 in /usr/local/lib/python3.11/dist-packages (from langchain) (2.0.39)\n",
            "Requirement already satisfied: requests<3,>=2 in /usr/local/lib/python3.11/dist-packages (from langchain) (2.32.3)\n",
            "Requirement already satisfied: PyYAML>=5.3 in /usr/local/lib/python3.11/dist-packages (from langchain) (6.0.2)\n",
            "Requirement already satisfied: tenacity!=8.4.0,<10.0.0,>=8.1.0 in /usr/local/lib/python3.11/dist-packages (from langchain-core<1.0.0,>=0.3.45->langchain) (9.0.0)\n",
            "Requirement already satisfied: jsonpatch<2.0,>=1.33 in /usr/local/lib/python3.11/dist-packages (from langchain-core<1.0.0,>=0.3.45->langchain) (1.33)\n",
            "Requirement already satisfied: packaging<25,>=23.2 in /usr/local/lib/python3.11/dist-packages (from langchain-core<1.0.0,>=0.3.45->langchain) (24.2)\n",
            "Requirement already satisfied: typing-extensions>=4.7 in /usr/local/lib/python3.11/dist-packages (from langchain-core<1.0.0,>=0.3.45->langchain) (4.12.2)\n",
            "Requirement already satisfied: httpx<1,>=0.23.0 in /usr/local/lib/python3.11/dist-packages (from langsmith<0.4,>=0.1.17->langchain) (0.28.1)\n",
            "Requirement already satisfied: orjson<4.0.0,>=3.9.14 in /usr/local/lib/python3.11/dist-packages (from langsmith<0.4,>=0.1.17->langchain) (3.10.15)\n",
            "Requirement already satisfied: requests-toolbelt<2.0.0,>=1.0.0 in /usr/local/lib/python3.11/dist-packages (from langsmith<0.4,>=0.1.17->langchain) (1.0.0)\n",
            "Requirement already satisfied: zstandard<0.24.0,>=0.23.0 in /usr/local/lib/python3.11/dist-packages (from langsmith<0.4,>=0.1.17->langchain) (0.23.0)\n",
            "Requirement already satisfied: annotated-types>=0.6.0 in /usr/local/lib/python3.11/dist-packages (from pydantic<3.0.0,>=2.7.4->langchain) (0.7.0)\n",
            "Requirement already satisfied: pydantic-core==2.27.2 in /usr/local/lib/python3.11/dist-packages (from pydantic<3.0.0,>=2.7.4->langchain) (2.27.2)\n",
            "Requirement already satisfied: charset-normalizer<4,>=2 in /usr/local/lib/python3.11/dist-packages (from requests<3,>=2->langchain) (3.4.1)\n",
            "Requirement already satisfied: idna<4,>=2.5 in /usr/local/lib/python3.11/dist-packages (from requests<3,>=2->langchain) (3.10)\n",
            "Requirement already satisfied: urllib3<3,>=1.21.1 in /usr/local/lib/python3.11/dist-packages (from requests<3,>=2->langchain) (2.3.0)\n",
            "Requirement already satisfied: certifi>=2017.4.17 in /usr/local/lib/python3.11/dist-packages (from requests<3,>=2->langchain) (2025.1.31)\n",
            "Requirement already satisfied: greenlet!=0.4.17 in /usr/local/lib/python3.11/dist-packages (from SQLAlchemy<3,>=1.4->langchain) (3.1.1)\n",
            "Requirement already satisfied: anyio in /usr/local/lib/python3.11/dist-packages (from httpx<1,>=0.23.0->langsmith<0.4,>=0.1.17->langchain) (4.9.0)\n",
            "Requirement already satisfied: httpcore==1.* in /usr/local/lib/python3.11/dist-packages (from httpx<1,>=0.23.0->langsmith<0.4,>=0.1.17->langchain) (1.0.7)\n",
            "Requirement already satisfied: h11<0.15,>=0.13 in /usr/local/lib/python3.11/dist-packages (from httpcore==1.*->httpx<1,>=0.23.0->langsmith<0.4,>=0.1.17->langchain) (0.14.0)\n",
            "Requirement already satisfied: jsonpointer>=1.9 in /usr/local/lib/python3.11/dist-packages (from jsonpatch<2.0,>=1.33->langchain-core<1.0.0,>=0.3.45->langchain) (3.0.0)\n",
            "Requirement already satisfied: sniffio>=1.1 in /usr/local/lib/python3.11/dist-packages (from anyio->httpx<1,>=0.23.0->langsmith<0.4,>=0.1.17->langchain) (1.3.1)\n"
          ]
        }
      ]
    },
    {
      "cell_type": "code",
      "source": [
        "pip install --upgrade langchain openai langchain_community"
      ],
      "metadata": {
        "colab": {
          "base_uri": "https://localhost:8080/"
        },
        "id": "Kups_46NIheX",
        "outputId": "c560d9b1-6ec8-4ba5-8b74-2a9be6e5d2f3"
      },
      "execution_count": null,
      "outputs": [
        {
          "output_type": "stream",
          "name": "stdout",
          "text": [
            "Requirement already satisfied: langchain in /usr/local/lib/python3.11/dist-packages (0.3.21)\n",
            "Requirement already satisfied: openai in /usr/local/lib/python3.11/dist-packages (0.28.0)\n",
            "Collecting openai\n",
            "  Downloading openai-1.68.2-py3-none-any.whl.metadata (25 kB)\n",
            "Requirement already satisfied: langchain_community in /usr/local/lib/python3.11/dist-packages (0.3.20)\n",
            "Requirement already satisfied: langchain-core<1.0.0,>=0.3.45 in /usr/local/lib/python3.11/dist-packages (from langchain) (0.3.47)\n",
            "Requirement already satisfied: langchain-text-splitters<1.0.0,>=0.3.7 in /usr/local/lib/python3.11/dist-packages (from langchain) (0.3.7)\n",
            "Requirement already satisfied: langsmith<0.4,>=0.1.17 in /usr/local/lib/python3.11/dist-packages (from langchain) (0.3.18)\n",
            "Requirement already satisfied: pydantic<3.0.0,>=2.7.4 in /usr/local/lib/python3.11/dist-packages (from langchain) (2.10.6)\n",
            "Requirement already satisfied: SQLAlchemy<3,>=1.4 in /usr/local/lib/python3.11/dist-packages (from langchain) (2.0.39)\n",
            "Requirement already satisfied: requests<3,>=2 in /usr/local/lib/python3.11/dist-packages (from langchain) (2.32.3)\n",
            "Requirement already satisfied: PyYAML>=5.3 in /usr/local/lib/python3.11/dist-packages (from langchain) (6.0.2)\n",
            "Requirement already satisfied: anyio<5,>=3.5.0 in /usr/local/lib/python3.11/dist-packages (from openai) (4.9.0)\n",
            "Requirement already satisfied: distro<2,>=1.7.0 in /usr/local/lib/python3.11/dist-packages (from openai) (1.9.0)\n",
            "Requirement already satisfied: httpx<1,>=0.23.0 in /usr/local/lib/python3.11/dist-packages (from openai) (0.28.1)\n",
            "Requirement already satisfied: jiter<1,>=0.4.0 in /usr/local/lib/python3.11/dist-packages (from openai) (0.9.0)\n",
            "Requirement already satisfied: sniffio in /usr/local/lib/python3.11/dist-packages (from openai) (1.3.1)\n",
            "Requirement already satisfied: tqdm>4 in /usr/local/lib/python3.11/dist-packages (from openai) (4.67.1)\n",
            "Requirement already satisfied: typing-extensions<5,>=4.11 in /usr/local/lib/python3.11/dist-packages (from openai) (4.12.2)\n",
            "Requirement already satisfied: aiohttp<4.0.0,>=3.8.3 in /usr/local/lib/python3.11/dist-packages (from langchain_community) (3.11.14)\n",
            "Requirement already satisfied: tenacity!=8.4.0,<10,>=8.1.0 in /usr/local/lib/python3.11/dist-packages (from langchain_community) (9.0.0)\n",
            "Requirement already satisfied: dataclasses-json<0.7,>=0.5.7 in /usr/local/lib/python3.11/dist-packages (from langchain_community) (0.6.7)\n",
            "Requirement already satisfied: pydantic-settings<3.0.0,>=2.4.0 in /usr/local/lib/python3.11/dist-packages (from langchain_community) (2.8.1)\n",
            "Requirement already satisfied: httpx-sse<1.0.0,>=0.4.0 in /usr/local/lib/python3.11/dist-packages (from langchain_community) (0.4.0)\n",
            "Requirement already satisfied: numpy<3,>=1.26.2 in /usr/local/lib/python3.11/dist-packages (from langchain_community) (2.0.2)\n",
            "Requirement already satisfied: aiohappyeyeballs>=2.3.0 in /usr/local/lib/python3.11/dist-packages (from aiohttp<4.0.0,>=3.8.3->langchain_community) (2.6.1)\n",
            "Requirement already satisfied: aiosignal>=1.1.2 in /usr/local/lib/python3.11/dist-packages (from aiohttp<4.0.0,>=3.8.3->langchain_community) (1.3.2)\n",
            "Requirement already satisfied: attrs>=17.3.0 in /usr/local/lib/python3.11/dist-packages (from aiohttp<4.0.0,>=3.8.3->langchain_community) (25.3.0)\n",
            "Requirement already satisfied: frozenlist>=1.1.1 in /usr/local/lib/python3.11/dist-packages (from aiohttp<4.0.0,>=3.8.3->langchain_community) (1.5.0)\n",
            "Requirement already satisfied: multidict<7.0,>=4.5 in /usr/local/lib/python3.11/dist-packages (from aiohttp<4.0.0,>=3.8.3->langchain_community) (6.2.0)\n",
            "Requirement already satisfied: propcache>=0.2.0 in /usr/local/lib/python3.11/dist-packages (from aiohttp<4.0.0,>=3.8.3->langchain_community) (0.3.0)\n",
            "Requirement already satisfied: yarl<2.0,>=1.17.0 in /usr/local/lib/python3.11/dist-packages (from aiohttp<4.0.0,>=3.8.3->langchain_community) (1.18.3)\n",
            "Requirement already satisfied: idna>=2.8 in /usr/local/lib/python3.11/dist-packages (from anyio<5,>=3.5.0->openai) (3.10)\n",
            "Requirement already satisfied: marshmallow<4.0.0,>=3.18.0 in /usr/local/lib/python3.11/dist-packages (from dataclasses-json<0.7,>=0.5.7->langchain_community) (3.26.1)\n",
            "Requirement already satisfied: typing-inspect<1,>=0.4.0 in /usr/local/lib/python3.11/dist-packages (from dataclasses-json<0.7,>=0.5.7->langchain_community) (0.9.0)\n",
            "Requirement already satisfied: certifi in /usr/local/lib/python3.11/dist-packages (from httpx<1,>=0.23.0->openai) (2025.1.31)\n",
            "Requirement already satisfied: httpcore==1.* in /usr/local/lib/python3.11/dist-packages (from httpx<1,>=0.23.0->openai) (1.0.7)\n",
            "Requirement already satisfied: h11<0.15,>=0.13 in /usr/local/lib/python3.11/dist-packages (from httpcore==1.*->httpx<1,>=0.23.0->openai) (0.14.0)\n",
            "Requirement already satisfied: jsonpatch<2.0,>=1.33 in /usr/local/lib/python3.11/dist-packages (from langchain-core<1.0.0,>=0.3.45->langchain) (1.33)\n",
            "Requirement already satisfied: packaging<25,>=23.2 in /usr/local/lib/python3.11/dist-packages (from langchain-core<1.0.0,>=0.3.45->langchain) (24.2)\n",
            "Requirement already satisfied: orjson<4.0.0,>=3.9.14 in /usr/local/lib/python3.11/dist-packages (from langsmith<0.4,>=0.1.17->langchain) (3.10.15)\n",
            "Requirement already satisfied: requests-toolbelt<2.0.0,>=1.0.0 in /usr/local/lib/python3.11/dist-packages (from langsmith<0.4,>=0.1.17->langchain) (1.0.0)\n",
            "Requirement already satisfied: zstandard<0.24.0,>=0.23.0 in /usr/local/lib/python3.11/dist-packages (from langsmith<0.4,>=0.1.17->langchain) (0.23.0)\n",
            "Requirement already satisfied: annotated-types>=0.6.0 in /usr/local/lib/python3.11/dist-packages (from pydantic<3.0.0,>=2.7.4->langchain) (0.7.0)\n",
            "Requirement already satisfied: pydantic-core==2.27.2 in /usr/local/lib/python3.11/dist-packages (from pydantic<3.0.0,>=2.7.4->langchain) (2.27.2)\n",
            "Requirement already satisfied: python-dotenv>=0.21.0 in /usr/local/lib/python3.11/dist-packages (from pydantic-settings<3.0.0,>=2.4.0->langchain_community) (1.1.0)\n",
            "Requirement already satisfied: charset-normalizer<4,>=2 in /usr/local/lib/python3.11/dist-packages (from requests<3,>=2->langchain) (3.4.1)\n",
            "Requirement already satisfied: urllib3<3,>=1.21.1 in /usr/local/lib/python3.11/dist-packages (from requests<3,>=2->langchain) (2.3.0)\n",
            "Requirement already satisfied: greenlet!=0.4.17 in /usr/local/lib/python3.11/dist-packages (from SQLAlchemy<3,>=1.4->langchain) (3.1.1)\n",
            "Requirement already satisfied: jsonpointer>=1.9 in /usr/local/lib/python3.11/dist-packages (from jsonpatch<2.0,>=1.33->langchain-core<1.0.0,>=0.3.45->langchain) (3.0.0)\n",
            "Requirement already satisfied: mypy-extensions>=0.3.0 in /usr/local/lib/python3.11/dist-packages (from typing-inspect<1,>=0.4.0->dataclasses-json<0.7,>=0.5.7->langchain_community) (1.0.0)\n",
            "Downloading openai-1.68.2-py3-none-any.whl (606 kB)\n",
            "\u001b[2K   \u001b[90m━━━━━━━━━━━━━━━━━━━━━━━━━━━━━━━━━━━━━━━━\u001b[0m \u001b[32m606.1/606.1 kB\u001b[0m \u001b[31m15.1 MB/s\u001b[0m eta \u001b[36m0:00:00\u001b[0m\n",
            "\u001b[?25hInstalling collected packages: openai\n",
            "  Attempting uninstall: openai\n",
            "    Found existing installation: openai 0.28.0\n",
            "    Uninstalling openai-0.28.0:\n",
            "      Successfully uninstalled openai-0.28.0\n",
            "Successfully installed openai-1.68.2\n"
          ]
        }
      ]
    },
    {
      "cell_type": "code",
      "source": [
        "from langchain.chat_models import ChatOpenAI\n",
        "from langchain.schema import AIMessage, HumanMessage, SystemMessage\n",
        "from langchain.memory import ChatMessageHistory\n",
        "\n",
        "# Replace this with your OpenRouter API key\n",
        "OPENROUTER_API_KEY = 'your key'\n",
        "OPENROUTER_API_BASE = \"https://openrouter.ai/api/v1\"\n",
        "\n",
        "# Initialize the OpenAI chat model with LangChain\n",
        "chat_model = ChatOpenAI(\n",
        "    model=\"gpt-3.5-turbo\",\n",
        "    temperature=0.7,\n",
        "    openai_api_key=OPENROUTER_API_KEY,  # Pass the OpenRouter API key\n",
        "    openai_api_base=OPENROUTER_API_BASE,  # Pass the OpenRouter API base URL\n",
        ")\n",
        "\n",
        "# Initialize chat message history to maintain conversation context\n",
        "chat_history = ChatMessageHistory()\n",
        "chat_history.add_message(SystemMessage(content=\"You are a helpful AI assistant.\"))\n",
        "\n",
        "# Function to interact with the chatbot\n",
        "def chat_with_ai():\n",
        "    print(\"AI Chatbot: Hello! How can I assist you today?\")\n",
        "\n",
        "    while True:\n",
        "        user_input = input(\"You: \")\n",
        "        if user_input.lower() in [\"exit\", \"quit\", \"bye\"]:\n",
        "            print(\"AI Chatbot: Goodbye! Have a great day!\")\n",
        "            break\n",
        "\n",
        "        # Add the user's input to the chat history\n",
        "        chat_history.add_message(HumanMessage(content=user_input))\n",
        "\n",
        "        try:\n",
        "            # Use LangChain to generate a response\n",
        "            response = chat_model(chat_history.messages)\n",
        "\n",
        "            # Add the AI's response to the chat history\n",
        "            chat_history.add_message(AIMessage(content=response.content))\n",
        "\n",
        "            # Print the AI's response\n",
        "            print(f\"AI Chatbot: {response.content}\")\n",
        "        except KeyError as e:\n",
        "            print(f\"An error occurred while parsing the response: {e}.\")\n",
        "        except Exception as e:\n",
        "            print(f\"An error occurred: {e}\")\n",
        "\n",
        "# Run the chatbot\n",
        "if __name__ == \"__main__\":\n",
        "    chat_with_ai()\n"
      ],
      "metadata": {
        "colab": {
          "base_uri": "https://localhost:8080/"
        },
        "id": "wfth5vh8KGRz",
        "outputId": "46060420-9ab9-463e-fc60-9faf62af5945"
      },
      "execution_count": null,
      "outputs": [
        {
          "output_type": "stream",
          "name": "stdout",
          "text": [
            "AI Chatbot: Hello! How can I assist you today?\n",
            "You: hello\n",
            "AI Chatbot: Hello! How can I assist you today?\n",
            "You: how are you\n",
            "AI Chatbot: I'm just a computer program, so I don't have feelings in the way humans do, but I'm here and ready to help you with anything you need. How can I assist you today?\n",
            "You: what is the 123 times 321\n",
            "AI Chatbot: 123 times 321 equals 39,483.\n",
            "You: exit\n",
            "AI Chatbot: Goodbye! Have a great day!\n"
          ]
        }
      ]
    },
    {
      "cell_type": "code",
      "source": [
        "from langchain.chat_models import ChatOpenAI\n",
        "from langchain.schema import AIMessage, HumanMessage, SystemMessage\n",
        "from langchain.memory import ChatMessageHistory\n",
        "\n",
        "# Replace this with your OpenRouter API key\n",
        "OPENROUTER_API_KEY = 'your key'\n",
        "OPENROUTER_API_BASE = \"https://openrouter.ai/api/v1\"\n",
        "\n",
        "# Initialize the OpenAI chat model with LangChain\n",
        "chat_model = ChatOpenAI(\n",
        "    model=\"gpt-3.5-turbo\",\n",
        "    temperature=0.5,  # Lower temperature for concise and accurate summaries\n",
        "    openai_api_key=OPENROUTER_API_KEY,\n",
        "    openai_api_base=OPENROUTER_API_BASE,\n",
        ")\n",
        "\n",
        "# Function to summarize news articles\n",
        "def summarize_news(article_text: str) -> str:\n",
        "    # Initialize chat history with system instructions\n",
        "    chat_history = ChatMessageHistory()\n",
        "    chat_history.add_message(\n",
        "        SystemMessage(\n",
        "            content=\"You are an AI assistant specialized in summarizing news articles. \"\n",
        "                    \"Please summarize the text provided in a concise and clear manner.\"\n",
        "        )\n",
        "    )\n",
        "\n",
        "    # Add the news article to the chat history\n",
        "    chat_history.add_message(HumanMessage(content=f\"Summarize this news article: {article_text}\"))\n",
        "\n",
        "    try:\n",
        "        # Generate the summary using the chat model\n",
        "        response = chat_model(chat_history.messages)\n",
        "\n",
        "        # Return the summarized text\n",
        "        return response.content\n",
        "    except Exception as e:\n",
        "        return f\"An error occurred: {e}\"\n",
        "\n",
        "# Example usage\n",
        "if __name__ == \"__main__\":\n",
        "    # Example news article\n",
        "    article = \"\"\"\n",
        "    Global markets are experiencing turbulence as concerns over inflation and interest rate hikes continue\n",
        "    to weigh on investor sentiment. The U.S. Federal Reserve has hinted at further rate increases in the\n",
        "    coming months, which has caused a sell-off in technology stocks. Meanwhile, European markets are dealing\n",
        "    with energy crises and geopolitical tensions, leading to a volatile trading environment. Economists are\n",
        "    divided on whether these challenges could push major economies into recession by the end of the year.\n",
        "    \"\"\"\n",
        "\n",
        "    print(\"Original Article:\")\n",
        "    print(article)\n",
        "    print(\"\\nSummarized News:\")\n",
        "    summary = summarize_news(article)\n",
        "    print(summary)\n"
      ],
      "metadata": {
        "colab": {
          "base_uri": "https://localhost:8080/"
        },
        "id": "YgG8jRgXKcRJ",
        "outputId": "9ef4bb78-f5c9-44ab-d9c4-8f03ef9ce434"
      },
      "execution_count": null,
      "outputs": [
        {
          "output_type": "stream",
          "name": "stdout",
          "text": [
            "Original Article:\n",
            "\n",
            "    Global markets are experiencing turbulence as concerns over inflation and interest rate hikes continue \n",
            "    to weigh on investor sentiment. The U.S. Federal Reserve has hinted at further rate increases in the \n",
            "    coming months, which has caused a sell-off in technology stocks. Meanwhile, European markets are dealing \n",
            "    with energy crises and geopolitical tensions, leading to a volatile trading environment. Economists are \n",
            "    divided on whether these challenges could push major economies into recession by the end of the year.\n",
            "    \n",
            "\n",
            "Summarized News:\n",
            "Global markets are facing instability due to worries about inflation and potential interest rate hikes. The U.S. Federal Reserve's indication of future rate increases has led to a decline in technology stocks. European markets are also grappling with energy issues and geopolitical tensions, resulting in a shaky trading atmosphere. Economists are split on whether these issues could drive major economies into recession by the year's end.\n"
          ]
        }
      ]
    },
    {
      "cell_type": "code",
      "source": [
        "from langchain.chat_models import ChatOpenAI\n",
        "from langchain.schema import AIMessage, HumanMessage, SystemMessage\n",
        "from langchain.memory import ChatMessageHistory\n",
        "\n",
        "# Replace this with your OpenRouter API key\n",
        "OPENROUTER_API_KEY ='your key'\n",
        "OPENROUTER_API_BASE = \"https://openrouter.ai/api/v1\"\n",
        "\n",
        "# Initialize the OpenAI chat model with LangChain\n",
        "chat_model = ChatOpenAI(\n",
        "    model=\"gpt-3.5-turbo\",\n",
        "    temperature=0.5,  # Lower temperature for concise and accurate summaries\n",
        "    openai_api_key=OPENROUTER_API_KEY,\n",
        "    openai_api_base=OPENROUTER_API_BASE,\n",
        ")\n",
        "\n",
        "# Function to summarize news articles\n",
        "def summarize_news(article_text: str) -> str:\n",
        "    # Initialize chat history with system instructions\n",
        "    chat_history = ChatMessageHistory()\n",
        "    chat_history.add_message(\n",
        "        SystemMessage(\n",
        "            content=\"You are an AI assistant specialized in summarizing news articles. \"\n",
        "                    \"Please summarize the text provided in a concise and clear manner.\"\n",
        "        )\n",
        "    )\n",
        "\n",
        "    # Add the news article to the chat history\n",
        "    chat_history.add_message(HumanMessage(content=f\"Summarize this news article: {article_text}\"))\n",
        "\n",
        "    try:\n",
        "        # Generate the summary using the chat model\n",
        "        response = chat_model(chat_history.messages)\n",
        "\n",
        "        # Return the summarized text\n",
        "        return response.content\n",
        "    except Exception as e:\n",
        "        return f\"An error occurred: {e}\"\n",
        "\n",
        "# Example usage\n",
        "if __name__ == \"__main__\":\n",
        "    print(\"Welcome to the AI News Summarizer!\")\n",
        "    print(\"Please input the news article you'd like summarized:\")\n",
        "    article = input(\"\\nNews Article: \")\n",
        "\n",
        "    print(\"\\nSummarized News:\")\n",
        "    summary = summarize_news(article)\n",
        "    print(summary)\n"
      ],
      "metadata": {
        "colab": {
          "base_uri": "https://localhost:8080/"
        },
        "id": "Q8G2e9pKLZO2",
        "outputId": "508ee8e5-3cb5-4398-e400-be7e1c851d57"
      },
      "execution_count": null,
      "outputs": [
        {
          "output_type": "stream",
          "name": "stdout",
          "text": [
            "Welcome to the AI News Summarizer!\n",
            "Please input the news article you'd like summarized:\n",
            "\n",
            "News Article: Global markets are experiencing turbulence as concerns over inflation and interest rate hikes continue      to weigh on investor sentiment. The U.S. Federal Reserve has hinted at further rate increases in the      coming months, which has caused a sell-off in technology stocks. Meanwhile, European markets are dealing      with energy crises and geopolitical tensions, leading to a volatile trading environment. Economists are      divided on whether these challenges could push major economies into recession by the end of the year.\n",
            "\n",
            "Summarized News:\n",
            "Global markets are facing instability due to worries about inflation and interest rate hikes. The U.S. Federal Reserve's indication of future rate hikes has led to a decline in technology stocks. European markets are also struggling with energy issues and geopolitical tensions, contributing to a volatile trading atmosphere. Economists are split on whether these issues could lead to a recession in major economies by the year's end.\n"
          ]
        }
      ]
    },
    {
      "cell_type": "code",
      "source": [
        "from langchain.chat_models import ChatOpenAI\n",
        "from langchain.schema import AIMessage, HumanMessage, SystemMessage\n",
        "from langchain.memory import ChatMessageHistory\n",
        "\n",
        "# Replace this with your OpenRouter API key\n",
        "OPENROUTER_API_KEY = 'your key'\n",
        "OPENROUTER_API_BASE = \"https://openrouter.ai/api/v1\"\n",
        "\n",
        "# Initialize the OpenAI chat model with LangChain\n",
        "chat_model = ChatOpenAI(\n",
        "    model=\"gpt-3.5-turbo\",\n",
        "    temperature=0.5,  # Adjust for a balance between creativity and accuracy\n",
        "    openai_api_key=OPENROUTER_API_KEY,\n",
        "    openai_api_base=OPENROUTER_API_BASE,\n",
        ")\n",
        "\n",
        "# Function to translate text between languages\n",
        "def translate_text(input_text: str, target_language: str) -> str:\n",
        "    # Initialize chat history with system instructions\n",
        "    chat_history = ChatMessageHistory()\n",
        "    chat_history.add_message(\n",
        "        SystemMessage(\n",
        "            content=\"You are an AI assistant specializing in language translation. \"\n",
        "                    \"Translate the following text into the specified target language.\"\n",
        "        )\n",
        "    )\n",
        "\n",
        "    # Add the user's input to the chat history\n",
        "    chat_history.add_message(\n",
        "        HumanMessage(content=f\"Translate this text: '{input_text}' into {target_language}.\")\n",
        "    )\n",
        "\n",
        "    try:\n",
        "        # Generate the translation using the chat model\n",
        "        response = chat_model(chat_history.messages)\n",
        "\n",
        "        # Return the translated text\n",
        "        return response.content\n",
        "    except Exception as e:\n",
        "        return f\"An error occurred: {e}\"\n",
        "\n",
        "# Example usage\n",
        "if __name__ == \"__main__\":\n",
        "    print(\"Welcome to the AI Language Translator!\")\n",
        "    input_text = input(\"Enter the text you want to translate: \")\n",
        "    target_language = input(\"Enter the target language (e.g., French, Spanish, Chinese): \")\n",
        "\n",
        "    print(\"\\nTranslated Text:\")\n",
        "    translation = translate_text(input_text, target_language)\n",
        "    print(translation)\n"
      ],
      "metadata": {
        "colab": {
          "base_uri": "https://localhost:8080/"
        },
        "id": "k6hPLlJsLlfO",
        "outputId": "d3a549a8-7f6a-483f-c9bb-b5151d28c0d1"
      },
      "execution_count": null,
      "outputs": [
        {
          "output_type": "stream",
          "name": "stdout",
          "text": [
            "Welcome to the AI Language Translator!\n",
            "Enter the text you want to translate: thank you\n",
            "Enter the target language (e.g., French, Spanish, Chinese): japanese\n",
            "\n",
            "Translated Text:\n",
            "The translation of 'thank you' into Japanese is 'ありがとうございます' (pronounced as 'arigatou gozaimasu').\n"
          ]
        }
      ]
    },
    {
      "cell_type": "code",
      "source": [
        "from langchain.chat_models import ChatOpenAI\n",
        "from langchain.schema import AIMessage, HumanMessage, SystemMessage\n",
        "from langchain.memory import ChatMessageHistory\n",
        "\n",
        "# Replace this with your OpenRouter API key\n",
        "OPENROUTER_API_KEY = 'your key'\n",
        "OPENROUTER_API_BASE = \"https://openrouter.ai/api/v1\"\n",
        "\n",
        "# Initialize the OpenAI chat model\n",
        "chat_model = ChatOpenAI(\n",
        "    model=\"gpt-3.5-turbo\",\n",
        "    temperature=0.7,  # Balanced creativity\n",
        "    openai_api_key=OPENROUTER_API_KEY,\n",
        "    openai_api_base=OPENROUTER_API_BASE,\n",
        ")\n",
        "\n",
        "# Function to analyze the resume\n",
        "def analyze_resume(resume_text: str, job_description: str) -> str:\n",
        "    # Initialize chat history with system instructions\n",
        "    chat_history = ChatMessageHistory()\n",
        "    chat_history.add_message(\n",
        "        SystemMessage(\n",
        "            content=\"You are an AI assistant specializing in resume analysis. \"\n",
        "                    \"Analyze the given resume and provide feedback on how well it matches the provided job description. \"\n",
        "                    \"Suggest improvements if necessary.\"\n",
        "        )\n",
        "    )\n",
        "\n",
        "    # Add the user's input (resume and job description) to the chat history\n",
        "    chat_history.add_message(\n",
        "        HumanMessage(\n",
        "            content=f\"Resume:\\n{resume_text}\\n\\nJob Description:\\n{job_description}\\n\\n\"\n",
        "                    \"Provide feedback and suggestions for improvement.\"\n",
        "        )\n",
        "    )\n",
        "\n",
        "    try:\n",
        "        # Generate the analysis using the chat model\n",
        "        response = chat_model(chat_history.messages)\n",
        "\n",
        "        # Return the analysis\n",
        "        return response.content\n",
        "    except Exception as e:\n",
        "        return f\"An error occurred: {e}\"\n",
        "\n",
        "# Example usage\n",
        "if __name__ == \"__main__\":\n",
        "    print(\"Welcome to the AI Resume Analyzer!\")\n",
        "    resume_text = input(\"Paste the resume text here:\\n\")\n",
        "    job_description = input(\"\\nPaste the job description here:\\n\")\n",
        "\n",
        "    print(\"\\nResume Analysis:\\n\")\n",
        "    analysis = analyze_resume(resume_text, job_description)\n",
        "    print(analysis)\n"
      ],
      "metadata": {
        "colab": {
          "base_uri": "https://localhost:8080/"
        },
        "id": "HBPOa96XNY7R",
        "outputId": "b78797aa-55b1-4d8c-cf39-8fa5f09cc6d8"
      },
      "execution_count": null,
      "outputs": [
        {
          "output_type": "stream",
          "name": "stdout",
          "text": [
            "Welcome to the AI Resume Analyzer!\n",
            "Paste the resume text here:\n",
            "John Doe - Experience: Software Engineer at XYZ Corp for 5 years. - Skills: Python, Machine Learning, SQL, Leadership. - Education: B.Sc. in Computer Science.\n",
            "\n",
            "Paste the job description here:\n",
            "it company\n",
            "\n",
            "Resume Analysis:\n",
            "\n",
            "**Feedback:**\n",
            "1. **Experience Match:** The candidate's experience as a Software Engineer at XYZ Corp for 5 years aligns well with the job description for an IT company.\n",
            "   \n",
            "2. **Skills Match:** The candidate's skills in Python, Machine Learning, SQL, and Leadership are relevant to the IT industry. However, it would be beneficial to provide more details or achievements related to these skills to strengthen the profile.\n",
            "\n",
            "3. **Education:** The candidate's B.Sc. in Computer Science is a suitable qualification for the IT industry.\n",
            "\n",
            "**Suggestions for Improvement:**\n",
            "1. **Detailed Experience:** Provide more specific details about projects worked on, accomplishments, and responsibilities held during the 5-year tenure at XYZ Corp to showcase the depth of experience.\n",
            "\n",
            "2. **Quantify Achievements:** Where possible, quantify achievements related to leadership, software development projects, or successful implementation of machine learning algorithms to demonstrate the impact of your work.\n",
            "\n",
            "3. **Include Relevant Keywords:** Tailor the resume by including keywords from the job description to further demonstrate alignment with the requirements of the IT company.\n",
            "\n",
            "4. **Professional Summary:** Consider adding a professional summary section at the beginning of the resume to highlight key skills, experience, and qualifications that make you a strong candidate for the IT role.\n",
            "\n",
            "By implementing these suggestions, the candidate can enhance their resume to better match the job description and increase their chances of being selected for the IT company position.\n"
          ]
        }
      ]
    },
    {
      "cell_type": "code",
      "source": [
        "from langchain.chat_models import ChatOpenAI\n",
        "from langchain.schema import AIMessage, HumanMessage, SystemMessage\n",
        "from langchain.memory import ChatMessageHistory\n",
        "\n",
        "# Replace this with your OpenRouter API key\n",
        "OPENROUTER_API_KEY = 'your key'\n",
        "OPENROUTER_API_BASE = \"https://openrouter.ai/api/v1\"\n",
        "\n",
        "# Initialize the OpenAI chat model\n",
        "chat_model = ChatOpenAI(\n",
        "    model=\"gpt-3.5-turbo\",\n",
        "    temperature=0.7,  # Balanced creativity\n",
        "    openai_api_key=OPENROUTER_API_KEY,\n",
        "    openai_api_base=OPENROUTER_API_BASE,\n",
        ")\n",
        "\n",
        "# Function to assist with medical diagnosis\n",
        "def medical_diagnosis_assistant(symptoms: str, medical_history: str) -> str:\n",
        "    # Initialize chat history with system instructions\n",
        "    chat_history = ChatMessageHistory()\n",
        "    chat_history.add_message(\n",
        "        SystemMessage(\n",
        "            content=\"You are an AI medical assistant. Based on the symptoms and medical history provided, \"\n",
        "                    \"suggest possible diagnoses and recommend next steps. Your responses are not a substitute for professional medical advice.\"\n",
        "        )\n",
        "    )\n",
        "\n",
        "    # Add the user's input (symptoms and medical history) to the chat history\n",
        "    chat_history.add_message(\n",
        "        HumanMessage(\n",
        "            content=f\"Symptoms:\\n{symptoms}\\n\\nMedical History:\\n{medical_history}\\n\\n\"\n",
        "                    \"Please provide a possible diagnosis and recommended next steps.\"\n",
        "        )\n",
        "    )\n",
        "\n",
        "    try:\n",
        "        # Generate the response using the chat model\n",
        "        response = chat_model(chat_history.messages)\n",
        "\n",
        "        # Return the diagnosis and recommendations\n",
        "        return response.content\n",
        "    except Exception as e:\n",
        "        return f\"An error occurred: {e}\"\n",
        "\n",
        "# Example usage\n",
        "if __name__ == \"__main__\":\n",
        "    print(\"Welcome to the AI Medical Diagnosis Assistant!\")\n",
        "    symptoms = input(\"Please describe your symptoms:\\n\")\n",
        "    medical_history = input(\"\\nProvide any relevant medical history:\\n\")\n",
        "\n",
        "    print(\"\\nAI Diagnosis and Recommendations:\\n\")\n",
        "    diagnosis = medical_diagnosis_assistant(symptoms, medical_history)\n",
        "    print(diagnosis)\n"
      ],
      "metadata": {
        "colab": {
          "base_uri": "https://localhost:8080/"
        },
        "id": "JfIWWxwvNvR3",
        "outputId": "e0b5b3bb-fe8f-4ab0-fd1d-2981b12db50f"
      },
      "execution_count": null,
      "outputs": [
        {
          "output_type": "stream",
          "name": "stdout",
          "text": [
            "Welcome to the AI Medical Diagnosis Assistant!\n",
            "Please describe your symptoms:\n",
            "Persistent headache for the past 3 days, sensitivity to light, and mild nausea.\n",
            "\n",
            "Provide any relevant medical history:\n",
            "nil\n",
            "\n",
            "AI Diagnosis and Recommendations:\n",
            "\n",
            "Based on the symptoms described, a possible diagnosis could be a migraine headache. Migraines are typically characterized by a throbbing or pulsating headache that can be accompanied by sensitivity to light, nausea, and sometimes vomiting.\n",
            "\n",
            "Recommended next steps:\n",
            "1. Keep a headache diary: Note down when the headaches occur, the severity, triggers, and any patterns that may emerge.\n",
            "2. Try over-the-counter pain relievers: Non-prescription pain medications like ibuprofen or acetaminophen may help relieve the headache.\n",
            "3. Practice relaxation techniques: Stress management techniques, such as deep breathing exercises or meditation, can help reduce headache frequency and intensity.\n",
            "4. Stay hydrated and maintain a regular sleep schedule: Dehydration and lack of sleep can trigger migraines in some individuals.\n",
            "5. If the headaches persist or become more severe, it is recommended to consult a healthcare provider for a proper evaluation and to discuss possible treatment options, such as prescription medications or preventive measures.\n"
          ]
        }
      ]
    },
    {
      "cell_type": "code",
      "source": [],
      "metadata": {
        "id": "h-w_kzPIOUvl"
      },
      "execution_count": null,
      "outputs": []
    }
  ]
}